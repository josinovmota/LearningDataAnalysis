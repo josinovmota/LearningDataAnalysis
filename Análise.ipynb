{
 "cells": [
  {
   "cell_type": "code",
   "execution_count": 2,
   "id": "c4f2e3ab",
   "metadata": {},
   "outputs": [],
   "source": [
    "import numpy as np\n",
    "import pandas as pd\n",
    "import matplotlib.pyplot as plt\n",
    "import os"
   ]
  },
  {
   "cell_type": "code",
   "execution_count": 3,
   "id": "eb989f07",
   "metadata": {},
   "outputs": [],
   "source": [
    "pwd = os.getcwd()\n",
    "\n",
    "data = pd.read_csv(pwd + '\\\\bweb_1t_CE_051020221321.csv', encoding='cp1252', delimiter=';')"
   ]
  },
  {
   "cell_type": "code",
   "execution_count": 4,
   "id": "5067e4a9",
   "metadata": {},
   "outputs": [
    {
     "data": {
      "text/html": [
       "<div>\n",
       "<style scoped>\n",
       "    .dataframe tbody tr th:only-of-type {\n",
       "        vertical-align: middle;\n",
       "    }\n",
       "\n",
       "    .dataframe tbody tr th {\n",
       "        vertical-align: top;\n",
       "    }\n",
       "\n",
       "    .dataframe thead th {\n",
       "        text-align: right;\n",
       "    }\n",
       "</style>\n",
       "<table border=\"1\" class=\"dataframe\">\n",
       "  <thead>\n",
       "    <tr style=\"text-align: right;\">\n",
       "      <th></th>\n",
       "      <th>DT_GERACAO</th>\n",
       "      <th>HH_GERACAO</th>\n",
       "      <th>ANO_ELEICAO</th>\n",
       "      <th>CD_TIPO_ELEICAO</th>\n",
       "      <th>NM_TIPO_ELEICAO</th>\n",
       "      <th>CD_PLEITO</th>\n",
       "      <th>DT_PLEITO</th>\n",
       "      <th>NR_TURNO</th>\n",
       "      <th>CD_ELEICAO</th>\n",
       "      <th>DS_ELEICAO</th>\n",
       "      <th>...</th>\n",
       "      <th>CD_FLASHCARD_URNA_EFETIVADA</th>\n",
       "      <th>DT_CARGA_URNA_EFETIVADA</th>\n",
       "      <th>DS_CARGO_PERGUNTA_SECAO</th>\n",
       "      <th>DS_AGREGADAS</th>\n",
       "      <th>DT_ABERTURA</th>\n",
       "      <th>DT_ENCERRAMENTO</th>\n",
       "      <th>QT_ELEITORES_BIOMETRIA_NH</th>\n",
       "      <th>DT_EMISSAO_BU</th>\n",
       "      <th>NR_JUNTA_APURADORA</th>\n",
       "      <th>NR_TURMA_APURADORA</th>\n",
       "    </tr>\n",
       "  </thead>\n",
       "  <tbody>\n",
       "    <tr>\n",
       "      <th>0</th>\n",
       "      <td>05/10/2022</td>\n",
       "      <td>13:44:58</td>\n",
       "      <td>2022</td>\n",
       "      <td>0</td>\n",
       "      <td>Eleição Ordinária</td>\n",
       "      <td>406</td>\n",
       "      <td>02/10/2022</td>\n",
       "      <td>1</td>\n",
       "      <td>544</td>\n",
       "      <td>Eleição Geral Federal 2022</td>\n",
       "      <td>...</td>\n",
       "      <td>1A8195DE</td>\n",
       "      <td>01/10/2022 16:31:00</td>\n",
       "      <td>1 - 33</td>\n",
       "      <td>#NULO#</td>\n",
       "      <td>02/10/2022 08:00:01</td>\n",
       "      <td>02/10/2022 17:10:36</td>\n",
       "      <td>20</td>\n",
       "      <td>02/10/2022 17:13:05</td>\n",
       "      <td>-1</td>\n",
       "      <td>-1</td>\n",
       "    </tr>\n",
       "    <tr>\n",
       "      <th>1</th>\n",
       "      <td>05/10/2022</td>\n",
       "      <td>13:44:58</td>\n",
       "      <td>2022</td>\n",
       "      <td>0</td>\n",
       "      <td>Eleição Ordinária</td>\n",
       "      <td>406</td>\n",
       "      <td>02/10/2022</td>\n",
       "      <td>1</td>\n",
       "      <td>544</td>\n",
       "      <td>Eleição Geral Federal 2022</td>\n",
       "      <td>...</td>\n",
       "      <td>1A8195DE</td>\n",
       "      <td>01/10/2022 16:31:00</td>\n",
       "      <td>1 - 33</td>\n",
       "      <td>#NULO#</td>\n",
       "      <td>02/10/2022 08:00:01</td>\n",
       "      <td>02/10/2022 17:10:36</td>\n",
       "      <td>20</td>\n",
       "      <td>02/10/2022 17:13:05</td>\n",
       "      <td>-1</td>\n",
       "      <td>-1</td>\n",
       "    </tr>\n",
       "    <tr>\n",
       "      <th>2</th>\n",
       "      <td>05/10/2022</td>\n",
       "      <td>13:44:58</td>\n",
       "      <td>2022</td>\n",
       "      <td>0</td>\n",
       "      <td>Eleição Ordinária</td>\n",
       "      <td>406</td>\n",
       "      <td>02/10/2022</td>\n",
       "      <td>1</td>\n",
       "      <td>544</td>\n",
       "      <td>Eleição Geral Federal 2022</td>\n",
       "      <td>...</td>\n",
       "      <td>1A8195DE</td>\n",
       "      <td>01/10/2022 16:31:00</td>\n",
       "      <td>1 - 33</td>\n",
       "      <td>#NULO#</td>\n",
       "      <td>02/10/2022 08:00:01</td>\n",
       "      <td>02/10/2022 17:10:36</td>\n",
       "      <td>20</td>\n",
       "      <td>02/10/2022 17:13:05</td>\n",
       "      <td>-1</td>\n",
       "      <td>-1</td>\n",
       "    </tr>\n",
       "    <tr>\n",
       "      <th>3</th>\n",
       "      <td>05/10/2022</td>\n",
       "      <td>13:44:58</td>\n",
       "      <td>2022</td>\n",
       "      <td>0</td>\n",
       "      <td>Eleição Ordinária</td>\n",
       "      <td>406</td>\n",
       "      <td>02/10/2022</td>\n",
       "      <td>1</td>\n",
       "      <td>544</td>\n",
       "      <td>Eleição Geral Federal 2022</td>\n",
       "      <td>...</td>\n",
       "      <td>1A8195DE</td>\n",
       "      <td>01/10/2022 16:31:00</td>\n",
       "      <td>1 - 33</td>\n",
       "      <td>#NULO#</td>\n",
       "      <td>02/10/2022 08:00:01</td>\n",
       "      <td>02/10/2022 17:10:36</td>\n",
       "      <td>20</td>\n",
       "      <td>02/10/2022 17:13:05</td>\n",
       "      <td>-1</td>\n",
       "      <td>-1</td>\n",
       "    </tr>\n",
       "    <tr>\n",
       "      <th>4</th>\n",
       "      <td>05/10/2022</td>\n",
       "      <td>13:44:58</td>\n",
       "      <td>2022</td>\n",
       "      <td>0</td>\n",
       "      <td>Eleição Ordinária</td>\n",
       "      <td>406</td>\n",
       "      <td>02/10/2022</td>\n",
       "      <td>1</td>\n",
       "      <td>544</td>\n",
       "      <td>Eleição Geral Federal 2022</td>\n",
       "      <td>...</td>\n",
       "      <td>1A8195DE</td>\n",
       "      <td>01/10/2022 16:31:00</td>\n",
       "      <td>1 - 33</td>\n",
       "      <td>#NULO#</td>\n",
       "      <td>02/10/2022 08:00:01</td>\n",
       "      <td>02/10/2022 17:10:36</td>\n",
       "      <td>20</td>\n",
       "      <td>02/10/2022 17:13:05</td>\n",
       "      <td>-1</td>\n",
       "      <td>-1</td>\n",
       "    </tr>\n",
       "  </tbody>\n",
       "</table>\n",
       "<p>5 rows × 45 columns</p>\n",
       "</div>"
      ],
      "text/plain": [
       "   DT_GERACAO HH_GERACAO  ANO_ELEICAO  CD_TIPO_ELEICAO    NM_TIPO_ELEICAO  \\\n",
       "0  05/10/2022   13:44:58         2022                0  Eleição Ordinária   \n",
       "1  05/10/2022   13:44:58         2022                0  Eleição Ordinária   \n",
       "2  05/10/2022   13:44:58         2022                0  Eleição Ordinária   \n",
       "3  05/10/2022   13:44:58         2022                0  Eleição Ordinária   \n",
       "4  05/10/2022   13:44:58         2022                0  Eleição Ordinária   \n",
       "\n",
       "   CD_PLEITO   DT_PLEITO  NR_TURNO  CD_ELEICAO                  DS_ELEICAO  \\\n",
       "0        406  02/10/2022         1         544  Eleição Geral Federal 2022   \n",
       "1        406  02/10/2022         1         544  Eleição Geral Federal 2022   \n",
       "2        406  02/10/2022         1         544  Eleição Geral Federal 2022   \n",
       "3        406  02/10/2022         1         544  Eleição Geral Federal 2022   \n",
       "4        406  02/10/2022         1         544  Eleição Geral Federal 2022   \n",
       "\n",
       "   ... CD_FLASHCARD_URNA_EFETIVADA  DT_CARGA_URNA_EFETIVADA  \\\n",
       "0  ...                    1A8195DE      01/10/2022 16:31:00   \n",
       "1  ...                    1A8195DE      01/10/2022 16:31:00   \n",
       "2  ...                    1A8195DE      01/10/2022 16:31:00   \n",
       "3  ...                    1A8195DE      01/10/2022 16:31:00   \n",
       "4  ...                    1A8195DE      01/10/2022 16:31:00   \n",
       "\n",
       "  DS_CARGO_PERGUNTA_SECAO  DS_AGREGADAS          DT_ABERTURA  \\\n",
       "0                  1 - 33        #NULO#  02/10/2022 08:00:01   \n",
       "1                  1 - 33        #NULO#  02/10/2022 08:00:01   \n",
       "2                  1 - 33        #NULO#  02/10/2022 08:00:01   \n",
       "3                  1 - 33        #NULO#  02/10/2022 08:00:01   \n",
       "4                  1 - 33        #NULO#  02/10/2022 08:00:01   \n",
       "\n",
       "       DT_ENCERRAMENTO  QT_ELEITORES_BIOMETRIA_NH        DT_EMISSAO_BU  \\\n",
       "0  02/10/2022 17:10:36                         20  02/10/2022 17:13:05   \n",
       "1  02/10/2022 17:10:36                         20  02/10/2022 17:13:05   \n",
       "2  02/10/2022 17:10:36                         20  02/10/2022 17:13:05   \n",
       "3  02/10/2022 17:10:36                         20  02/10/2022 17:13:05   \n",
       "4  02/10/2022 17:10:36                         20  02/10/2022 17:13:05   \n",
       "\n",
       "   NR_JUNTA_APURADORA NR_TURMA_APURADORA  \n",
       "0                  -1                 -1  \n",
       "1                  -1                 -1  \n",
       "2                  -1                 -1  \n",
       "3                  -1                 -1  \n",
       "4                  -1                 -1  \n",
       "\n",
       "[5 rows x 45 columns]"
      ]
     },
     "execution_count": 4,
     "metadata": {},
     "output_type": "execute_result"
    }
   ],
   "source": [
    "data.head()"
   ]
  },
  {
   "cell_type": "code",
   "execution_count": 5,
   "id": "e928a835",
   "metadata": {},
   "outputs": [
    {
     "data": {
      "text/plain": [
       "(2664589, 45)"
      ]
     },
     "execution_count": 5,
     "metadata": {},
     "output_type": "execute_result"
    }
   ],
   "source": [
    "data.shape"
   ]
  },
  {
   "cell_type": "code",
   "execution_count": 6,
   "id": "c69f5d71",
   "metadata": {},
   "outputs": [
    {
     "name": "stdout",
     "output_type": "stream",
     "text": [
      "<class 'pandas.core.frame.DataFrame'>\n",
      "RangeIndex: 2664589 entries, 0 to 2664588\n",
      "Data columns (total 45 columns):\n",
      " #   Column                       Dtype  \n",
      "---  ------                       -----  \n",
      " 0   DT_GERACAO                   object \n",
      " 1   HH_GERACAO                   object \n",
      " 2   ANO_ELEICAO                  int64  \n",
      " 3   CD_TIPO_ELEICAO              int64  \n",
      " 4   NM_TIPO_ELEICAO              object \n",
      " 5   CD_PLEITO                    int64  \n",
      " 6   DT_PLEITO                    object \n",
      " 7   NR_TURNO                     int64  \n",
      " 8   CD_ELEICAO                   int64  \n",
      " 9   DS_ELEICAO                   object \n",
      " 10  SG_UF                        object \n",
      " 11  CD_MUNICIPIO                 int64  \n",
      " 12  NM_MUNICIPIO                 object \n",
      " 13  NR_ZONA                      int64  \n",
      " 14  NR_SECAO                     int64  \n",
      " 15  NR_LOCAL_VOTACAO             int64  \n",
      " 16  CD_CARGO_PERGUNTA            int64  \n",
      " 17  DS_CARGO_PERGUNTA            object \n",
      " 18  NR_PARTIDO                   int64  \n",
      " 19  SG_PARTIDO                   object \n",
      " 20  NM_PARTIDO                   object \n",
      " 21  DT_BU_RECEBIDO               object \n",
      " 22  QT_APTOS                     int64  \n",
      " 23  QT_COMPARECIMENTO            int64  \n",
      " 24  QT_ABSTENCOES                int64  \n",
      " 25  CD_TIPO_URNA                 int64  \n",
      " 26  DS_TIPO_URNA                 object \n",
      " 27  CD_TIPO_VOTAVEL              int64  \n",
      " 28  DS_TIPO_VOTAVEL              object \n",
      " 29  NR_VOTAVEL                   int64  \n",
      " 30  NM_VOTAVEL                   object \n",
      " 31  QT_VOTOS                     int64  \n",
      " 32  NR_URNA_EFETIVADA            int64  \n",
      " 33  CD_CARGA_1_URNA_EFETIVADA    object \n",
      " 34  CD_CARGA_2_URNA_EFETIVADA    float64\n",
      " 35  CD_FLASHCARD_URNA_EFETIVADA  object \n",
      " 36  DT_CARGA_URNA_EFETIVADA      object \n",
      " 37  DS_CARGO_PERGUNTA_SECAO      object \n",
      " 38  DS_AGREGADAS                 object \n",
      " 39  DT_ABERTURA                  object \n",
      " 40  DT_ENCERRAMENTO              object \n",
      " 41  QT_ELEITORES_BIOMETRIA_NH    int64  \n",
      " 42  DT_EMISSAO_BU                object \n",
      " 43  NR_JUNTA_APURADORA           int64  \n",
      " 44  NR_TURMA_APURADORA           int64  \n",
      "dtypes: float64(1), int64(22), object(22)\n",
      "memory usage: 914.8+ MB\n"
     ]
    }
   ],
   "source": [
    "data.info()"
   ]
  },
  {
   "cell_type": "code",
   "execution_count": 7,
   "id": "ee66c802",
   "metadata": {},
   "outputs": [
    {
     "data": {
      "text/plain": [
       "0    FORTALEZA\n",
       "1    FORTALEZA\n",
       "2    FORTALEZA\n",
       "3    FORTALEZA\n",
       "4    FORTALEZA\n",
       "Name: NM_MUNICIPIO, dtype: object"
      ]
     },
     "execution_count": 7,
     "metadata": {},
     "output_type": "execute_result"
    }
   ],
   "source": [
    "data['NM_MUNICIPIO'].head()"
   ]
  },
  {
   "cell_type": "code",
   "execution_count": 18,
   "id": "c6b5291f",
   "metadata": {},
   "outputs": [
    {
     "data": {
      "image/png": "[encoded data removed]",
      "text/plain": [
       "<Figure size 1008x432 with 1 Axes>"
      ]
     },
     "metadata": {
      "needs_background": "light"
     },
     "output_type": "display_data"
    }
   ],
   "source": [
    "ax = data['NM_MUNICIPIO'].value_counts().head(10).plot(kind='bar',figsize=(14,6))"
   ]
  },
  {
   "cell_type": "code",
   "execution_count": null,
   "id": "3d4d5ffe",
   "metadata": {},
   "outputs": [],
   "source": []
  }
 ],
 "metadata": {
  "kernelspec": {
   "display_name": "Python 3 (ipykernel)",
   "language": "python",
   "name": "python3"
  },
  "language_info": {
   "codemirror_mode": {
    "name": "ipython",
    "version": 3
   },
   "file_extension": ".py",
   "mimetype": "text/x-python",
   "name": "python",
   "nbconvert_exporter": "python",
   "pygments_lexer": "ipython3",
   "version": "3.9.12"
  }
 },
 "nbformat": 4,
 "nbformat_minor": 5
}
